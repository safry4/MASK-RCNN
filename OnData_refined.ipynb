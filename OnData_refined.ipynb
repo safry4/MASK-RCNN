{
  "nbformat": 4,
  "nbformat_minor": 0,
  "metadata": {
    "colab": {
      "name": "OnData_refined.ipynb",
      "provenance": [],
      "private_outputs": true,
      "collapsed_sections": [],
      "authorship_tag": "ABX9TyNHKRpG87v2OYz/Nk5ir2Ms",
      "include_colab_link": true
    },
    "kernelspec": {
      "name": "python3",
      "display_name": "Python 3"
    },
    "language_info": {
      "name": "python"
    }
  },
  "cells": [
    {
      "cell_type": "markdown",
      "metadata": {
        "id": "view-in-github",
        "colab_type": "text"
      },
      "source": [
        "<a href=\"https://colab.research.google.com/github/safry4/MASK-RCNN/blob/main/OnData_refined.ipynb\" target=\"_parent\"><img src=\"https://colab.research.google.com/assets/colab-badge.svg\" alt=\"Open In Colab\"/></a>"
      ]
    },
    {
      "cell_type": "code",
      "source": [
        "import skimage.io\n",
        "import skimage.draw\n",
        "import numpy as np\n",
        "import matplotlib.pyplot as plt\n",
        "import scipy.ndimage as ndimage\n",
        "import skimage.segmentation as seg\n",
        "import skimage.color as color\n",
        "import cv2\n",
        "from functions import *\n",
        "from skimage.segmentation import slic\n",
        "from google.colab.patches import cv2_imshow\n",
        "from matplotlib.pyplot import figure\n",
        "from numpy import unravel_index"
      ],
      "metadata": {
        "id": "T4DtZbJztP6m"
      },
      "execution_count": null,
      "outputs": []
    },
    {
      "cell_type": "code",
      "source": [
        "def unstack(a, axis=0):\n",
        "    return np.moveaxis(a, axis, 0)\n",
        "#    return list(np.moveaxis(a, axis, 0))"
      ],
      "metadata": {
        "id": "aor3wB7BhTFd"
      },
      "execution_count": null,
      "outputs": []
    },
    {
      "cell_type": "code",
      "source": [
        "image = skimage.io.imread(\"DA Lifetime.bmp\", as_gray=True)\n",
        "image = image[:,50:]\n",
        "skimage.io.imshow(image)"
      ],
      "metadata": {
        "id": "RoWqQorM_oGC"
      },
      "execution_count": null,
      "outputs": []
    },
    {
      "cell_type": "code",
      "source": [
        "imageI = skimage.io.imread(\"DA Intensity.bmp\", as_gray=True)\n",
        "imageI = imageI[:,50:]\n",
        "skimage.io.imshow(imageI)"
      ],
      "metadata": {
        "id": "VJ_DjMnEYMoO"
      },
      "execution_count": null,
      "outputs": []
    },
    {
      "cell_type": "code",
      "source": [
        "imageD = skimage.io.imread(\"Donor Lifetime.bmp\", as_gray=True)\n",
        "imageD = imageD[:,50:]\n",
        "skimage.io.imshow(imageD)"
      ],
      "metadata": {
        "id": "9BDpyHjp01kK"
      },
      "execution_count": null,
      "outputs": []
    },
    {
      "cell_type": "code",
      "source": [
        "#noise reduction on Lifetime\n",
        "blurred = ndimage.gaussian_filter(image, sigma=0.1)\n",
        "uniform_denoised=ndimage.uniform_filter(blurred,size=3)\n",
        "plt.imshow(uniform_denoised)\n",
        "imgu8 = convert(uniform_denoised, 0, 255, np.uint8)"
      ],
      "metadata": {
        "id": "QVKfzot_Auuh"
      },
      "execution_count": null,
      "outputs": []
    },
    {
      "cell_type": "code",
      "source": [
        "#noise reduction on Intensity\n",
        "blurredI = ndimage.gaussian_filter(imageI, sigma=0.1)\n",
        "uniform_denoisedI=ndimage.uniform_filter(blurredI,size=3)\n",
        "imgIu8 = convert(uniform_denoisedI, 0, 255, np.uint8)\n",
        "plt.imshow(imgIu8)"
      ],
      "metadata": {
        "id": "YrKCZIM8gwN0"
      },
      "execution_count": null,
      "outputs": []
    },
    {
      "cell_type": "code",
      "source": [
        "#no noise reduction\n",
        "image_with_noise = convert(image, 0, 255, np.uint8)\n",
        "imageI_with_noise = convert(imageI, 0, 255, np.uint8)"
      ],
      "metadata": {
        "id": "7RSOtbM9EQFj"
      },
      "execution_count": null,
      "outputs": []
    },
    {
      "cell_type": "code",
      "source": [
        "#Thresholding adjust\n",
        "from skimage.filters import threshold_otsu\n",
        "thresh = threshold_otsu(imgIu8)\n",
        "binary = imgIu8 > 90\n",
        "\n",
        "fig, axes = plt.subplots(ncols=3, figsize=(24, 7.5))\n",
        "ax = axes.ravel()\n",
        "ax[0] = plt.subplot(1, 3, 1)\n",
        "ax[1] = plt.subplot(1, 3, 2)\n",
        "ax[2] = plt.subplot(1, 3, 3, sharex=ax[0], sharey=ax[0])\n",
        "\n",
        "ax[0].imshow(imgIu8, cmap=plt.cm.gray)\n",
        "ax[0].set_title('Original')\n",
        "ax[0].axis('off')\n",
        "\n",
        "ax[1].hist(imgIu8.ravel(), bins=256)\n",
        "ax[1].set_title('Histogram')\n",
        "ax[1].axvline(thresh, color='r')\n",
        "\n",
        "ax[2].imshow(binary, cmap=plt.cm.gray)\n",
        "ax[2].set_title('Thresholded')\n",
        "ax[2].axis('off')\n",
        "\n",
        "plt.show()"
      ],
      "metadata": {
        "id": "ftvAYtwhqiZ4"
      },
      "execution_count": null,
      "outputs": []
    },
    {
      "cell_type": "code",
      "source": [
        "# #25% highest intensity\n",
        "# I_95_percentile= np.percentile(imgIu8, 95)\n",
        "# I_98_percentile= np.percentile(imgIu8, 98)\n",
        "\n",
        "# #Threshholding Intensity Image\n",
        "# to_overlap=imgIu8.copy()\n",
        "# to_overlap[to_overlap >I_98_percentile] = 255\n",
        "# #to_overlap[to_overlap <=I25less] = 0\n",
        "# to_overlap[(to_overlap >=I_95_percentile) & (to_overlap <I_98_percentile)] = 150\n",
        "# to_overlap[to_overlap <I_95_percentile] = 0\n",
        "# plt.imshow(to_overlap)"
      ],
      "metadata": {
        "id": "zpnutbCBlpAZ"
      },
      "execution_count": null,
      "outputs": []
    },
    {
      "cell_type": "code",
      "source": [
        "to_overlap=filter_intensity(image = imageI_with_noise, threshold1 = 70, threshold2 = 50, minArea = 10)\n",
        "cv2_imshow(to_overlap)"
      ],
      "metadata": {
        "id": "LIMG9itafLBw"
      },
      "execution_count": null,
      "outputs": []
    },
    {
      "cell_type": "code",
      "source": [
        "to_overlap=filter_intensity(image = imgIu8, threshold1 = 120, threshold2 = 65, minArea = 70)\n",
        "cv2_imshow(to_overlap)"
      ],
      "metadata": {
        "id": "7xTCvW5iOEQk"
      },
      "execution_count": null,
      "outputs": []
    },
    {
      "cell_type": "code",
      "source": [
        "#multiple threshholds\n",
        "\n",
        "ProteinFunction=ConnectedComponentFiltered(image=imgu8, threshold = 150, minArea=50)\n",
        "contours, hierarchy = cv2.findContours(image=ProteinFunction, mode=cv2.RETR_EXTERNAL, method=cv2.CHAIN_APPROX_NONE)\n",
        "\n",
        "image_copy = to_overlap.copy()\n",
        "image_copy = cv2.cvtColor(image_copy, cv2.COLOR_GRAY2BGR) \n",
        "cv2.drawContours(image=image_copy, contours=contours, contourIdx=-1, color=(0, 100, 255), thickness=1, lineType=cv2.LINE_AA)\n",
        "\n",
        "###\n",
        "# ProteinFunction=ConnectedComponentFiltered(image=imgu8, threshold = 150, minArea=5)\n",
        "# contours, hierarchy = cv2.findContours(image=ProteinFunction, mode=cv2.RETR_TREE, method=cv2.CHAIN_APPROX_NONE)\n",
        "\n",
        "# image_copy1 = to_overlap.copy()\n",
        "# cv2.drawContours(image=image_copy1, contours=contours, contourIdx=-1, color=(255, 0, 255), thickness=1, lineType=cv2.LINE_AA)\n",
        "\n",
        "###\n",
        "ProteinFunction=ConnectedComponentFiltered(image=imgu8, threshold = 150, minArea=150)\n",
        "contours, hierarchy = cv2.findContours(image=ProteinFunction, mode=cv2.RETR_TREE, method=cv2.CHAIN_APPROX_NONE)\n",
        "mask = np.zeros(ProteinFunction.shape, np.uint8)\n",
        "mask_inv = cv2.bitwise_not(mask)\n",
        "image_copy2=mask\n",
        "cv2.drawContours(image=image_copy2, contours=contours, contourIdx=-1, color=(255, 0, 0), thickness=1, lineType=cv2.LINE_AA)\n",
        "\n",
        "fig, (ax1, ax2) = plt.subplots(1, 2, figsize=(50,20))\n",
        "ax1.imshow(image_copy)\n",
        "ax2.imshow(image_copy2)\n",
        "\n",
        "# f, ax = plt.subplots(3,figsize=(100,30))\n",
        "# ax[0].imshow(image_copy)\n",
        "# ax[1].imshow(image_copy1)\n",
        "# ax[2].imshow(image_copy2)"
      ],
      "metadata": {
        "id": "L07-3K6c6pFd"
      },
      "execution_count": null,
      "outputs": []
    },
    {
      "cell_type": "code",
      "source": [
        "#iterate over countours\n",
        "\n",
        "###\n",
        "ProteinFunction=ConnectedComponentFiltered(image=imgu8, threshold = 150, minArea=50)\n",
        "contours, hierarchy = cv2.findContours(image=ProteinFunction, mode=cv2.RETR_EXTERNAL, method=cv2.CHAIN_APPROX_NONE)\n",
        "#stores the (x,y) coordinates of the boundary of a shape\n",
        "cnt = sorted(contours, key=cv2.contourArea, reverse=True)\n",
        "l=[cnt[1]]\n",
        "\n",
        "mask = np.zeros(ProteinFunction.shape, np.uint8)\n",
        "mask_inv = cv2.bitwise_not(mask)\n",
        "image_copy2=mask\n",
        "draw=cv2.drawContours(image=image_copy2, contours=l, contourIdx=0, color=(255, 0, 0), thickness=-1, lineType=cv2.LINE_AA)\n",
        "#cv2_imshow(image_copy2)"
      ],
      "metadata": {
        "id": "vxP7jxassdVE"
      },
      "execution_count": null,
      "outputs": []
    },
    {
      "cell_type": "code",
      "source": [
        "#Countours\n",
        "\n",
        "#Lifetime for each countour\n",
        "ProteinFunction=ConnectedComponentFiltered(image=imgu8, threshold = 150, minArea=250)\n",
        "contours, hierarchy = cv2.findContours(image=ProteinFunction, mode=cv2.RETR_EXTERNAL, method=cv2.CHAIN_APPROX_NONE)\n",
        "cnt = sorted(contours, key=cv2.contourArea, reverse=True)\n",
        "l1, l2 =[cnt[12]], [cnt[1]]\n",
        "\n",
        "\n",
        "image_copy1 = imgu8.copy()\n",
        "draw=cv2.drawContours(image=image_copy1, contours=l1, contourIdx=-1, color=(0, 0, 0), thickness=1, lineType=cv2.LINE_AA)\n",
        "\n",
        "image_copy2 = imgu8.copy()\n",
        "draw=cv2.drawContours(image=image_copy2, contours=l2, contourIdx=-1, color=(0, 0, 0), thickness=1, lineType=cv2.LINE_AA)\n",
        "\n",
        "fig, (ax1, ax2) = plt.subplots(1, 2, figsize=(30,15))\n",
        "ax1.imshow(image_copy1)\n",
        "ax2.imshow(image_copy2)\n",
        "\n",
        "\n",
        "ProteinFunction=ConnectedComponentFiltered(image=imgu8, threshold = 150, minArea=250)\n",
        "contours, hierarchy = cv2.findContours(image=ProteinFunction, mode=cv2.RETR_EXTERNAL, method=cv2.CHAIN_APPROX_NONE)\n",
        "cnt = sorted(contours, key=cv2.contourArea, reverse=True)\n",
        "l1, l2 =[cnt[12]], [cnt[1]]\n",
        "image_copy1 = imgu8.copy()\n",
        "cv2.drawContours(image=image_copy1, contours=l1, contourIdx=-1, color=(255, 255, 255), thickness=-1, lineType=cv2.LINE_AA)\n",
        "\n",
        "image_copy2 = imgu8.copy()\n",
        "cv2.drawContours(image=image_copy2, contours=l2, contourIdx=-1, color=(255, 255, 255), thickness=-1, lineType=cv2.LINE_AA)\n",
        "\n",
        "# fig, (ax1, ax2) = plt.subplots(1, 2, figsize=(40,15))\n",
        "# ax1.imshow(image_copy1)\n",
        "# ax2.imshow(image_copy2)\n",
        "\n",
        "\n",
        "x1=np.where(image_copy1 ==255)[0]\n",
        "y1=np.where(image_copy1 ==255)[1]\n",
        "Lifetime1=imgu8[x1,y1]\n",
        "\n",
        "x2=np.where(image_copy2 ==255)[0]\n",
        "y2=np.where(image_copy2 ==255)[1]\n",
        "Lifetime2=imgu8[x2,y2]\n",
        "\n",
        "##\n",
        "#Intensity\n",
        "ProteinFunction=ConnectedComponentFiltered(image=imgu8, threshold = 150, minArea=250)\n",
        "contours, hierarchy = cv2.findContours(image=ProteinFunction, mode=cv2.RETR_EXTERNAL, method=cv2.CHAIN_APPROX_NONE)\n",
        "cnt = sorted(contours, key=cv2.contourArea, reverse=True)\n",
        "l1, l2 =[cnt[12]], [cnt[1]]\n",
        "#9,12\n",
        "image_copy1 = imgIu8.copy()\n",
        "cv2.drawContours(image=image_copy1, contours=l1, contourIdx=-1, color=(255, 255, 255), thickness=1, lineType=cv2.LINE_AA)\n",
        "#cv2_imshow(image_copy)\n",
        "\n",
        "image_copy2 = imgIu8.copy()\n",
        "cv2.drawContours(image=image_copy2, contours=l2, contourIdx=-1, color=(255, 255, 255), thickness=1, lineType=cv2.LINE_AA)\n",
        "#cv2_imshow(image_copy)\n",
        "\n",
        "fig, (ax1, ax2) = plt.subplots(1, 2, figsize=(30,15))\n",
        "ax1.imshow(image_copy1)\n",
        "ax2.imshow(image_copy2)\n",
        "##\n",
        "\n",
        "fig, (ax1, ax2) = plt.subplots(1, 2, figsize=(10,5))\n",
        "fig.suptitle('Lifetime of each countour', fontsize=16)\n",
        "ax1.hist(Lifetime1)\n",
        "ax2.hist(Lifetime2)\n",
        "plt.plot()\n",
        "\n",
        "##\n",
        "\n",
        "##\n",
        "\n",
        "#Intensity for each countour\n",
        "ProteinFunction=ConnectedComponentFiltered(image=imgu8, threshold = 150, minArea=250)\n",
        "contours, hierarchy = cv2.findContours(image=ProteinFunction, mode=cv2.RETR_EXTERNAL, method=cv2.CHAIN_APPROX_NONE)\n",
        "cnt = sorted(contours, key=cv2.contourArea, reverse=True)\n",
        "l1, l2 =[cnt[12]], [cnt[1]]\n",
        "\n",
        "#imgIu8 = cv2.cvtColor(imgIu8,cv2.COLOR_RGB2GREY)\n",
        "\n",
        "image_copy1 = imgIu8.copy()\n",
        "cv2.drawContours(image=image_copy1, contours=l1, contourIdx=-1, color=(255, 255, 255), thickness=-1, lineType=cv2.LINE_AA)\n",
        "\n",
        "x1=np.where(image_copy1 ==255)[0]\n",
        "y1=np.where(image_copy1 ==255)[1]\n",
        "Intensity1=imgIu8[x1,y1]\n",
        "\n",
        "image_copy2 = imgIu8.copy()\n",
        "cv2.drawContours(image=image_copy2, contours=l2, contourIdx=-1, color=(255, 255, 255), thickness=-1, lineType=cv2.LINE_AA)\n",
        "\n",
        "x2=np.where(image_copy2 ==255)[0]\n",
        "y2=np.where(image_copy2 ==255)[1]\n",
        "Intensity2=imgIu8[x2,y2]\n",
        "\n",
        "fig, (ax1, ax2) = plt.subplots(1, 2, figsize=(10,5))\n",
        "fig.suptitle('Intensity of each countour', fontsize=16)\n",
        "ax1.hist(Intensity1)\n",
        "ax2.hist(Intensity2)\n",
        "plt.plot()\n",
        "\n",
        "from IPython.display import Javascript\n",
        "display(Javascript('''google.colab.output.setIframeHeight(0, true, {maxHeight: 5000})'''))\n"
      ],
      "metadata": {
        "id": "E-sUkSzyk-lj"
      },
      "execution_count": null,
      "outputs": []
    },
    {
      "cell_type": "code",
      "source": [
        "#testing\n",
        "image = imgIu8.copy()\n",
        "image = cv2.cvtColor(image,cv2.COLOR_GRAY2RGB)\n",
        "image = cv2.circle(image, (185,246), radius=1, color=(0, 100, 255), thickness=5)\n",
        "draw=cv2.drawContours(image=image, contours=l1, contourIdx=-1, color=(255, 255, 255), thickness=1, lineType=cv2.LINE_AA)\n",
        "cv2_imshow(image)"
      ],
      "metadata": {
        "id": "GsxnjuR9mgcP"
      },
      "execution_count": null,
      "outputs": []
    },
    {
      "cell_type": "code",
      "source": [
        "#testing"
      ],
      "metadata": {
        "id": "ZArFJ9LZkDFn"
      },
      "execution_count": null,
      "outputs": []
    },
    {
      "cell_type": "code",
      "source": [
        "#totry then threshold() (or Sobel() or Canny() or inRange()"
      ],
      "metadata": {
        "id": "otK_b77GnUB9"
      },
      "execution_count": null,
      "outputs": []
    },
    {
      "cell_type": "code",
      "source": [
        "#FRET"
      ],
      "metadata": {
        "id": "5OGv8nx01Lma"
      },
      "execution_count": null,
      "outputs": []
    },
    {
      "cell_type": "code",
      "source": [
        "image = skimage.io.imread(\"DA Lifetime.bmp\", as_gray=True)\n",
        "image = image[:,50:]\n",
        "skimage.io.imshow(image)\n",
        "\n",
        "imageD = skimage.io.imread(\"Donor Lifetime.bmp\", as_gray=True)\n",
        "imageD = imageD[:,50:]\n",
        "skimage.io.imshow(imageD)"
      ],
      "metadata": {
        "id": "P0Dju75h3v0m"
      },
      "execution_count": null,
      "outputs": []
    },
    {
      "cell_type": "code",
      "source": [
        "DA_Intensity = skimage.io.imread(\"DA Intensity.bmp\", as_gray=True)\n",
        "DA_Intensity = DA_Intensity[:,50:]\n",
        "skimage.io.imshow(DA_Intensity)"
      ],
      "metadata": {
        "id": "WZKS3ddGMPBd"
      },
      "execution_count": null,
      "outputs": []
    },
    {
      "cell_type": "code",
      "source": [
        "A_Intensity = skimage.io.imread(\"Acceptor Intensity.bmp\", as_gray=True)\n",
        "A_Intensity = A_Intensity[:,50:]\n",
        "skimage.io.imshow(A_Intensity)"
      ],
      "metadata": {
        "id": "ZGCfUk4JMmBj"
      },
      "execution_count": null,
      "outputs": []
    },
    {
      "cell_type": "code",
      "source": [
        "DA_Lifetime=image.copy()\n",
        "D_Lifetime=imageD.copy()"
      ],
      "metadata": {
        "id": "X___v5kh1OGj"
      },
      "execution_count": null,
      "outputs": []
    },
    {
      "cell_type": "code",
      "source": [
        "#to_grey 0..255\n",
        "DA_Lifetime = convert(DA_Lifetime, 0, 255, np.uint8)\n",
        "D_Lifetime = convert(D_Lifetime, 0, 255, np.uint8)"
      ],
      "metadata": {
        "id": "vkm_xsvf3Za1"
      },
      "execution_count": null,
      "outputs": []
    },
    {
      "cell_type": "code",
      "source": [
        "skimage.io.imshow(DA_Lifetime)"
      ],
      "metadata": {
        "id": "IVGQ4Alz3WFg"
      },
      "execution_count": null,
      "outputs": []
    },
    {
      "cell_type": "code",
      "source": [
        "skimage.io.imshow(D_Lifetime)"
      ],
      "metadata": {
        "id": "GU866Kfv4rBK"
      },
      "execution_count": null,
      "outputs": []
    },
    {
      "cell_type": "code",
      "source": [
        "with np.errstate(divide='ignore', invalid='ignore'):\n",
        "    FRET = np.true_divide(DA_Lifetime,D_Lifetime)\n",
        "    FRET[FRET == np.inf] = 0\n",
        "    FRET = np.nan_to_num(FRET)"
      ],
      "metadata": {
        "id": "BUgm3Q59-Fft"
      },
      "execution_count": null,
      "outputs": []
    },
    {
      "cell_type": "code",
      "source": [
        "skimage.io.imshow(FRET)"
      ],
      "metadata": {
        "id": "R0V5yiYCLPDq"
      },
      "execution_count": null,
      "outputs": []
    },
    {
      "cell_type": "code",
      "source": [
        "#Coincidence"
      ],
      "metadata": {
        "id": "b84XrTqkMEnT"
      },
      "execution_count": null,
      "outputs": []
    },
    {
      "cell_type": "code",
      "source": [
        "DA_Intensity = skimage.io.imread(\"DA Intensity.bmp\", as_gray=True)\n",
        "DA_Intensity = DA_Intensity[:,50:]\n",
        "skimage.io.imshow(DA_Intensity)"
      ],
      "metadata": {
        "id": "JHpdeIt9Mvhl"
      },
      "execution_count": null,
      "outputs": []
    },
    {
      "cell_type": "code",
      "source": [
        "A_Intensity = skimage.io.imread(\"Acceptor Intensity.bmp\", as_gray=True)\n",
        "A_Intensity = A_Intensity[:,50:]\n",
        "skimage.io.imshow(A_Intensity)"
      ],
      "metadata": {
        "id": "zA01BIRbMz5_"
      },
      "execution_count": null,
      "outputs": []
    },
    {
      "cell_type": "code",
      "source": [
        "#to_grey 0..255\n",
        "DA_Intensity = convert(DA_Intensity, 0, 255, np.uint8)\n",
        "A_Intensity = convert(A_Intensity, 0, 255, np.uint8)"
      ],
      "metadata": {
        "id": "SN1bemzoNXNv"
      },
      "execution_count": null,
      "outputs": []
    },
    {
      "cell_type": "code",
      "source": [
        "to_overlap=filter_intensity(image = DA_Intensity, threshold1 = 45, threshold2 = 45, minArea = 70)\n",
        "cv2_imshow(to_overlap)"
      ],
      "metadata": {
        "id": "bhpjtEJaPCjo"
      },
      "execution_count": null,
      "outputs": []
    },
    {
      "cell_type": "code",
      "source": [
        "#set thresholds for D_Intensity, extract countours"
      ],
      "metadata": {
        "id": "fnAflTMmOAKz"
      },
      "execution_count": null,
      "outputs": []
    },
    {
      "cell_type": "code",
      "source": [
        "#just to see\n",
        "contours, hierarchy = cv2.findContours(image=to_overlap, mode=cv2.RETR_EXTERNAL, method=cv2.CHAIN_APPROX_NONE)\n",
        "# cnt = sorted(contours, key=cv2.contourArea, reverse=True)\n",
        "# l1, l2 =[cnt[12]], [cnt[1]]\n",
        "\n",
        "\n",
        "image_copy1 = DA_Intensity.copy()\n",
        "cv2.drawContours(image=image_copy1, contours=contours, contourIdx=-1, color=(0, 100, 0), thickness=1, lineType=cv2.LINE_AA)\n",
        "\n",
        "figure(figsize=(50, 40), dpi=80)\n",
        "plt.imshow(image_copy1)"
      ],
      "metadata": {
        "id": "WJ5M5OhnQdUt"
      },
      "execution_count": null,
      "outputs": []
    },
    {
      "cell_type": "code",
      "source": [
        "#the same as previous to extract coordinates from D_Intensity\n",
        "contours, hierarchy = cv2.findContours(image=to_overlap, mode=cv2.RETR_EXTERNAL, method=cv2.CHAIN_APPROX_NONE)\n",
        "# cnt = sorted(contours, key=cv2.contourArea, reverse=True)\n",
        "# l1, l2 =[cnt[12]], [cnt[1]]\n",
        "\n",
        "\n",
        "image_copy1 = DA_Intensity.copy()\n",
        "cv2.drawContours(image=image_copy1, contours=contours, contourIdx=-1, color=(255, 255, 255), thickness=-1, lineType=cv2.LINE_AA)\n",
        "\n",
        "figure(figsize=(10, 8), dpi=80)\n",
        "plt.imshow(image_copy1)"
      ],
      "metadata": {
        "id": "zLddFNGSV7LB"
      },
      "execution_count": null,
      "outputs": []
    },
    {
      "cell_type": "code",
      "source": [
        "#extract coordinates of white regions\n",
        "x1=np.where(image_copy1 ==255)[0]\n",
        "y1=np.where(image_copy1 ==255)[1]\n",
        "#extract values\n",
        "#Intensity1=DA_Intensity[x1,y1]"
      ],
      "metadata": {
        "id": "d0wb81Y-WfvW"
      },
      "execution_count": null,
      "outputs": []
    },
    {
      "cell_type": "code",
      "source": [
        "#Extract from A Intensity\n",
        "\n",
        "A_Intensity_filtered=filter_intensity(image = A_Intensity, threshold1 = 80, threshold2 = 80, minArea = 70)\n",
        "cv2_imshow(A_Intensity_filtered)"
      ],
      "metadata": {
        "id": "9ODH7vFPTy19"
      },
      "execution_count": null,
      "outputs": []
    },
    {
      "cell_type": "code",
      "source": [
        "#just to see\n",
        "contours, hierarchy = cv2.findContours(image=A_Intensity_filtered, mode=cv2.RETR_TREE, method=cv2.CHAIN_APPROX_NONE)\n",
        "# cnt = sorted(contours, key=cv2.contourArea, reverse=True)\n",
        "# l1, l2 =[cnt[12]], [cnt[1]]\n",
        "\n",
        "\n",
        "image_copy3 = A_Intensity.copy()\n",
        "draw=cv2.drawContours(image=image_copy3, contours=contours, contourIdx=-1, color=(0, 100, 0), thickness=1, lineType=cv2.LINE_AA)\n",
        "\n",
        "figure(figsize=(50, 40), dpi=80)\n",
        "plt.imshow(image_copy3)"
      ],
      "metadata": {
        "id": "Iddiw-NYUQSc"
      },
      "execution_count": null,
      "outputs": []
    },
    {
      "cell_type": "code",
      "source": [
        "#to extract coordinates\n",
        "#just to see\n",
        "contours, hierarchy = cv2.findContours(image=A_Intensity_filtered, mode=cv2.RETR_TREE, method=cv2.CHAIN_APPROX_NONE)\n",
        "# cnt = sorted(contours, key=cv2.contourArea, reverse=True)\n",
        "# l1, l2 =[cnt[12]], [cnt[1]]\n",
        "\n",
        "\n",
        "image_copy2 = A_Intensity.copy()\n",
        "draw=cv2.drawContours(image=image_copy2, contours=contours, contourIdx=-1, color=(255, 255, 255), thickness=-1, lineType=cv2.LINE_AA)\n",
        "\n",
        "figure(figsize=(10, 8), dpi=80)\n",
        "plt.imshow(image_copy2)"
      ],
      "metadata": {
        "id": "dlfG-WKkXK27"
      },
      "execution_count": null,
      "outputs": []
    },
    {
      "cell_type": "code",
      "source": [
        "#extract coordinates of white regions\n",
        "x2=np.where(image_copy2 ==255)[0]\n",
        "y2=np.where(image_copy2 ==255)[1]\n",
        "#extract values\n",
        "#Intensity1=DA_Intensity[x1,y1]"
      ],
      "metadata": {
        "id": "qNNlacGhXlxk"
      },
      "execution_count": null,
      "outputs": []
    },
    {
      "cell_type": "code",
      "source": [
        "#find where x1y1 coincide with x2y2, map to FRET"
      ],
      "metadata": {
        "id": "CYrpiK9KXq9C"
      },
      "execution_count": null,
      "outputs": []
    },
    {
      "cell_type": "code",
      "source": [
        "x1,y1=np.where(image_copy1 ==255)\n",
        "x2,y2=np.where(image_copy2 ==255)\n",
        "\n",
        "arr1 = np.stack((x1, y1), axis=1)\n",
        "arr2 = np.stack((x2, y2), axis=1)\n",
        "\n",
        "aset = set([tuple(x) for x in arr1])\n",
        "bset = set([tuple(x) for x in arr2])\n",
        "coordinates = np.array([x for x in aset & bset])\n",
        "\n",
        "x,y = unstack(coordinates, axis=1)\n",
        "\n",
        "img = np.zeros_like(image_copy2)\n",
        "\n",
        "img[x, y] = 1"
      ],
      "metadata": {
        "id": "14h0ureSwo2J"
      },
      "execution_count": null,
      "outputs": []
    },
    {
      "cell_type": "code",
      "source": [
        ""
      ],
      "metadata": {
        "id": "5ciiAFsGwTBd"
      },
      "execution_count": null,
      "outputs": []
    },
    {
      "cell_type": "code",
      "source": [
        "skimage.io.imshow(img)"
      ],
      "metadata": {
        "id": "tZeBLsPVAH1g"
      },
      "execution_count": null,
      "outputs": []
    },
    {
      "cell_type": "code",
      "source": [
        "#just to see\n",
        "#img = np.zeros_like(image_copy2)\n",
        "img = convert(img, 0, 255, np.uint8)\n",
        "contours, hierarchy = cv2.findContours(image=img, mode=cv2.RETR_EXTERNAL, method=cv2.CHAIN_APPROX_NONE)\n",
        "cnt = sorted(contours, key=cv2.contourArea, reverse=True)\n",
        "# l1, l2 =[cnt[12]], [cnt[1]]\n",
        "\n",
        "\n",
        "image_copy2 = FRET.copy()\n",
        "draw=cv2.drawContours(image=image_copy2, contours=cnt, contourIdx=-1, color=(20, 20, 20), thickness=1, lineType=cv2.LINE_AA)\n",
        "\n",
        "figure(figsize=(10, 8), dpi=80)\n",
        "plt.imshow(image_copy2)"
      ],
      "metadata": {
        "id": "SZo7BhvYmWR4"
      },
      "execution_count": null,
      "outputs": []
    },
    {
      "cell_type": "code",
      "source": [
        "FRET[410,200]"
      ],
      "metadata": {
        "id": "B9wHfCADksND"
      },
      "execution_count": null,
      "outputs": []
    },
    {
      "cell_type": "code",
      "source": [
        "#How FRET is distributed inside"
      ],
      "metadata": {
        "id": "Xsii9cctdjSq"
      },
      "execution_count": null,
      "outputs": []
    },
    {
      "cell_type": "code",
      "source": [
        "img = convert(img, 0, 255, np.uint8)\n",
        "contours, hierarchy = cv2.findContours(image=img, mode=cv2.RETR_EXTERNAL, method=cv2.CHAIN_APPROX_NONE)\n",
        "cnt = sorted(contours, key=cv2.contourArea, reverse=True)\n",
        "# l1, l2 =[cnt[12]], [cnt[1]]\n",
        "\n",
        "\n",
        "#image_copy2 = FRET.copy()\n",
        "image_copy2 = np.zeros_like(image_copy2)\n",
        "draw=cv2.drawContours(image=image_copy2, contours=cnt, contourIdx=-1, color=(255, 255, 255), thickness=-1, lineType=cv2.LINE_AA)\n",
        "\n",
        "figure(figsize=(10, 8), dpi=80)\n",
        "plt.imshow(image_copy2)"
      ],
      "metadata": {
        "id": "qFK-XYxPd8yU"
      },
      "execution_count": null,
      "outputs": []
    },
    {
      "cell_type": "code",
      "source": [
        "figure(figsize=(10, 8), dpi=80)\n",
        "plt.imshow(FRET)"
      ],
      "metadata": {
        "id": "fCAwisFGkzfJ"
      },
      "execution_count": null,
      "outputs": []
    },
    {
      "cell_type": "code",
      "source": [
        "xf=np.where(image_copy2 ==255)[0]\n",
        "yf=np.where(image_copy2 ==255)[1]\n",
        "\n",
        "FRET_hist=FRET[xf,yf]\n",
        "FRET_non_zero = [i for i in FRET_hist if i > 0]\n",
        "\n",
        "fig, (ax1, ax2) = plt.subplots(1, 2, figsize=(10,5))\n",
        "fig.suptitle('Intensity of each countour', fontsize=16)\n",
        "ax1.hist(FRET_hist)\n",
        "ax2.hist(FRET_non_zero)\n",
        "plt.plot()"
      ],
      "metadata": {
        "id": "bBj8rT8Ld84C"
      },
      "execution_count": null,
      "outputs": []
    },
    {
      "cell_type": "code",
      "source": [
        "FRET_intersec = np.zeros_like(FRET)\n",
        "FRET_intersec[xf,yf]=FRET[xf,yf]\n",
        "F = FRET_intersec.copy()\n",
        "#image = cv2.cvtColor(image,cv2.COLOR_GRAY2RGB)\n",
        "F = cv2.circle(F, (337,301), radius=1, color=(25, 25, 25), thickness=5)\n",
        "figure(figsize=(10, 8), dpi=80)\n",
        "plt.imshow(F)"
      ],
      "metadata": {
        "id": "Itkl7dOqxrr4"
      },
      "execution_count": null,
      "outputs": []
    }
  ]
}