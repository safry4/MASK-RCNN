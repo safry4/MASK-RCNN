{
  "nbformat": 4,
  "nbformat_minor": 0,
  "metadata": {
    "colab": {
      "name": "Functions.ipynb",
      "provenance": [],
      "collapsed_sections": [],
      "authorship_tag": "ABX9TyPDG32ik5TuO3rx4aeMvomZ",
      "include_colab_link": true
    },
    "kernelspec": {
      "name": "python3",
      "display_name": "Python 3"
    },
    "language_info": {
      "name": "python"
    }
  },
  "cells": [
    {
      "cell_type": "markdown",
      "metadata": {
        "id": "view-in-github",
        "colab_type": "text"
      },
      "source": [
        "<a href=\"https://colab.research.google.com/github/safry4/MASK-RCNN/blob/main/Functions.ipynb\" target=\"_parent\"><img src=\"https://colab.research.google.com/assets/colab-badge.svg\" alt=\"Open In Colab\"/></a>"
      ]
    },
    {
      "cell_type": "code",
      "execution_count": null,
      "metadata": {
        "id": "OYk4JP8SGCo9"
      },
      "outputs": [],
      "source": [
        "import skimage.io\n",
        "import skimage.draw\n",
        "import numpy as np\n",
        "import matplotlib.pyplot as plt\n",
        "import scipy.ndimage as ndimage\n",
        "import skimage.segmentation as seg\n",
        "import skimage.color as color\n",
        "import cv2\n",
        "from skimage.segmentation import slic\n",
        "from google.colab.patches import cv2_imshow"
      ]
    },
    {
      "cell_type": "code",
      "source": [
        "def unstack(a, axis=0):\n",
        "    return np.moveaxis(a, axis, 0)"
      ],
      "metadata": {
        "id": "M6GY398jSZE9"
      },
      "execution_count": null,
      "outputs": []
    },
    {
      "cell_type": "code",
      "source": [
        "#convert to uint8\n",
        "def convert(img, target_type_min, target_type_max, target_type):\n",
        "    imin = img.min()\n",
        "    imax = img.max()\n",
        "\n",
        "    a = (target_type_max - target_type_min) / (imax - imin)\n",
        "    b = target_type_max - a * imax\n",
        "    new_img = (a * img + b).astype(target_type)\n",
        "    return new_img"
      ],
      "metadata": {
        "id": "9pskoMw0Gc4h"
      },
      "execution_count": null,
      "outputs": []
    },
    {
      "cell_type": "code",
      "source": [
        "def ConnectedComponentFiltered(image, threshold, minArea):\n",
        "  ret, thresh = cv2.threshold(image, threshold, 255, cv2.THRESH_BINARY)\n",
        "  nlabels, labels, stats, centroids = cv2.connectedComponentsWithStats(thresh, None, None, None, 8, cv2.CV_32S)\n",
        "  areas = stats[1:,cv2.CC_STAT_AREA]\n",
        "  FilteredImage = np.zeros((labels.shape), np.uint8)\n",
        "  for i in range(0, nlabels - 1):\n",
        "      if areas[i] >= minArea:\n",
        "          FilteredImage[labels == i + 1] = 255\n",
        "  return FilteredImage"
      ],
      "metadata": {
        "id": "fSsqYvqpGdiR"
      },
      "execution_count": null,
      "outputs": []
    },
    {
      "cell_type": "code",
      "source": [
        "#Filter intensity\n",
        "def filter_intensity(image, threshold1, threshold2, minArea):\n",
        "  #outputs an intensity image with 2 thresholds for intensity\n",
        "  #brightest\n",
        "  ret1, thresholded1 = cv2.threshold(image, threshold1, 255, cv2.THRESH_BINARY)\n",
        "  #If the pixel value is smaller than the threshold1, it is set to 0, otherwise it is set to 255. \n",
        "  nlabels, labels, stats, centroids = cv2.connectedComponentsWithStats(thresholded1, None, None, None, 8, cv2.CV_32S)\n",
        "  areas = stats[1:,cv2.CC_STAT_AREA]\n",
        "  FilteredImage1 = np.zeros((labels.shape), np.uint8)\n",
        "  for i in range(0, nlabels - 1):\n",
        "      if areas[i] >= minArea:\n",
        "        FilteredImage1[labels == i + 1] = 255\n",
        "\n",
        "  #2nd brightest\n",
        "  ret2, thresholded2 = cv2.threshold(image, threshold2, 255, cv2.THRESH_BINARY)\n",
        "  nlabels, labels, stats, centroids = cv2.connectedComponentsWithStats(thresholded2, None, None, None, 8, cv2.CV_32S)\n",
        "  areas = stats[1:,cv2.CC_STAT_AREA]\n",
        "  FilteredImage2 = np.zeros((labels.shape), np.uint8)\n",
        "  for i in range(0, nlabels - 1):\n",
        "      if areas[i] >= minArea:\n",
        "        FilteredImage2[labels == i + 1] = 150\n",
        "  \n",
        "  FilteredIntensity = np.maximum(FilteredImage1, FilteredImage2)\n",
        "  return FilteredIntensity"
      ],
      "metadata": {
        "id": "SO9musupGmtb"
      },
      "execution_count": null,
      "outputs": []
    }
  ]
}